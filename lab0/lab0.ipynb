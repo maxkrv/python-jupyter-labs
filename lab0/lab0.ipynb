{
 "cells": [
  {
   "cell_type": "code",
   "execution_count": 13,
   "metadata": {},
   "outputs": [],
   "source": [
    "N = ord(\"K\") % 10 + 1"
   ]
  },
  {
   "cell_type": "code",
   "execution_count": 14,
   "metadata": {},
   "outputs": [
    {
     "name": "stdout",
     "output_type": "stream",
     "text": [
      "6\n"
     ]
    }
   ],
   "source": [
    "print(N)"
   ]
  },
  {
   "cell_type": "markdown",
   "metadata": {},
   "source": [
    "# Йорданія - Відомості про країну\n",
    "\n",
    "<div style=\"border:2px solid #4CAF50; padding: 10px; background-color: #f9f9f9;\">\n",
    "<strong><span style=\"color:#FF4500;\">Йорданське Хашимітське Королівство</span></strong> (Йорданія) є суверенною державою в Західній Азії. Розташована на стику Азії, Європи та Африки.\n",
    "</div>\n",
    "\n",
    "## Основна інформація\n",
    "\n",
    "- **Столиця**: Амман\n",
    "- **Офіційна мова**: Арабська\n",
    "- **Державний устрій**: Конституційна монархія\n",
    "- **Голова держави**: Король Абдалла II\n",
    "- **Валюта**: Йорданський динар (JOD)\n",
    "- **Населення**: *10.2 мільйона* (2023)\n",
    "\n",
    "---\n",
    "\n",
    "### Географія та населення\n",
    "\n",
    "| Характеристика          | Показник                   |\n",
    "|-------------------------|----------------------------|\n",
    "| **Загальна площа**       | 89 342 км²                 |\n",
    "| **Населення**            | 10.2 мільйона               |\n",
    "| **Високі гори**          | Гори Мова, висота 2 180 м  |\n",
    "| **Клімат**               | Субтропічний                |\n",
    "\n",
    "---\n",
    "\n",
    "## Видатні персони\n",
    "\n",
    "1. **Король Абдалла II** – чинний король Йорданії з 1999 року.\n",
    "2. **Королева Ранія** – дружина короля Абдалли II, відома філантропка і активістка за права жінок та освіту.\n",
    "3. **Захіа Ал-Ісса** – відома йорданська письменниця.\n",
    "\n",
    "## Пам'ятки культури та природи\n",
    "\n",
    "1. **Петра**  \n",
    "   ![Петра](https://upload.wikimedia.org/wikipedia/commons/thumb/6/62/Al_Khazneh_Petra_edit_2.jpg/250px-Al_Khazneh_Petra_edit_2.jpg)  \n",
    "   Один з нових семи чудес світу, висічений у скелях стародавнє місто.\n",
    "\n",
    "2. **Мертве море**  \n",
    "   ![Мертве море](https://upload.wikimedia.org/wikipedia/commons/thumb/2/21/Dead_Sea_by_David_Shankbone.jpg/592px-Dead_Sea_by_David_Shankbone.jpg)  \n",
    "   Унікальне солоне озеро, де неможливо потонути.\n",
    "\n",
    "3. **Ваді Рам**  \n",
    "   ![Ваді Рам](https://upload.wikimedia.org/wikipedia/commons/thumb/0/03/Wadi_Rum_in_December.jpg/592px-Wadi_Rum_in_December.jpg)  \n",
    "   Захоплююча пустельна місцевість з химерними скельними утвореннями.\n",
    "\n",
    "---\n",
    "\n",
    "## Державний устрій\n",
    "\n",
    "**Йорданія** є конституційною монархією, де король має значну владу, проте політична система включає парламент із двох палат:  \n",
    "\n",
    "- **Сенат** (призначається королем)\n",
    "- **Палата представників** (обирається народом)\n",
    "\n",
    "---\n",
    "\n",
    "## Зовнішні ресурси\n",
    "\n",
    "Детальніше про Йорданію можна дізнатися на офіційному сайті:  \n",
    "[Офіційний сайт Йорданії](https://kingabdullah.jo/en)\n",
    "\n",
    "---\n",
    "\n",
    "## Прапор Йорданії\n",
    "\n",
    "<svg xmlns=\"http://www.w3.org/2000/svg\" viewBox=\"0 0 800 400\">\n",
    "  <rect width=\"800\" height=\"400\" fill=\"black\" />\n",
    "  <rect y=\"133.33\" width=\"800\" height=\"133.33\" fill=\"white\" />\n",
    "  <rect y=\"266.66\" width=\"800\" height=\"133.33\" fill=\"green\" />\n",
    "  <polygon points=\"0,0 400,200 0,400\" fill=\"red\"/>\n",
    "  <polygon fill=\"white\" points=\"170,200 \n",
    "    161.08,180.9 139.5,180.9 157.64,167.45 150.17,148.35 \n",
    "    170,160.4 189.83,148.35 182.36,167.45 200.5,180.9 \n",
    "    178.92,180.9\"/>\n",
    "</svg>\n",
    "\n"
   ]
  },
  {
   "cell_type": "code",
   "execution_count": 2,
   "metadata": {},
   "outputs": [],
   "source": [
    "def is_prime(n):\n",
    "    if n <= 1:\n",
    "        return False\n",
    "    if n == 2:\n",
    "        return True\n",
    "    if n % 2 == 0:\n",
    "        return False\n",
    "    for i in range(3, int(n**0.5) + 1, 2):\n",
    "        if n % i == 0:\n",
    "            return False\n",
    "    return True\n",
    "\n",
    "def task_6():\n",
    "    a = int(input(\"Введіть число А:\"))\n",
    "    b = int(input(\"Введіть число Б:\"))\n",
    "    \n",
    "    primes = []\n",
    "\n",
    "    for i in range(a, b + 1):\n",
    "        if is_prime(i):\n",
    "            primes.append(i)\n",
    "\n",
    "    return primes"
   ]
  },
  {
   "cell_type": "code",
   "execution_count": 5,
   "metadata": {},
   "outputs": [
    {
     "data": {
      "text/plain": [
       "[3, 5, 7, 11, 13]"
      ]
     },
     "execution_count": 5,
     "metadata": {},
     "output_type": "execute_result"
    }
   ],
   "source": [
    "# 3 15\n",
    "task_6()"
   ]
  },
  {
   "cell_type": "code",
   "execution_count": null,
   "metadata": {},
   "outputs": [],
   "source": []
  }
 ],
 "metadata": {
  "kernelspec": {
   "display_name": "Python 3",
   "language": "python",
   "name": "python3"
  },
  "language_info": {
   "codemirror_mode": {
    "name": "ipython",
    "version": 3
   },
   "file_extension": ".py",
   "mimetype": "text/x-python",
   "name": "python",
   "nbconvert_exporter": "python",
   "pygments_lexer": "ipython3",
   "version": "3.12.3"
  }
 },
 "nbformat": 4,
 "nbformat_minor": 2
}
